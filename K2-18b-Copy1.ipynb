{
 "cells": [
  {
   "cell_type": "code",
   "execution_count": 1,
   "metadata": {},
   "outputs": [
    {
     "name": "stdout",
     "output_type": "stream",
     "text": [
      "Created TAP+ (v1.2.1) - Connection:\n",
      "\tHost: gea.esac.esa.int\n",
      "\tUse HTTPS: False\n",
      "\tPort: 80\n",
      "\tSSL Port: 443\n",
      "Created TAP+ (v1.2.1) - Connection:\n",
      "\tHost: geadata.esac.esa.int\n",
      "\tUse HTTPS: False\n",
      "\tPort: 80\n",
      "\tSSL Port: 443\n"
     ]
    }
   ],
   "source": [
    "# import statements\n",
    "import matplotlib.pyplot as plt\n",
    "import numpy as np\n",
    "from astropy.io.votable import parse_single_table\n",
    "# Import the units package as \"u\", the constants package as \"c\"\n",
    "import astropy.units as u\n",
    "import astropy.constants as c\n",
    "from astropy.table import QTable\n",
    "import astropy.coordinates as coord\n",
    "from matplotlib import colors\n",
    "\n",
    "# Suppress warnings. Comment this out if you wish to see the warning messages\n",
    "import warnings\n",
    "warnings.filterwarnings('ignore')\n",
    "\n",
    "%matplotlib inline\n",
    "\n",
    "from astroquery.gaia import Gaia\n",
    "\n",
    "from matplotlib import colors"
   ]
  },
  {
   "cell_type": "code",
   "execution_count": 2,
   "metadata": {},
   "outputs": [],
   "source": [
    "#Querying methods\n",
    "\n",
    "def read_gaia_vot(filename):\n",
    "    return QTable(parse_single_table(filename).to_table())\n",
    "\n",
    "def get_table_gaia_query(myquery):\n",
    "    return QTable(Gaia.launch_job_async(myquery, dump_to_file = True).get_results())"
   ]
  },
  {
   "cell_type": "code",
   "execution_count": 3,
   "metadata": {},
   "outputs": [],
   "source": [
    "#Astronomy methods\n",
    "\n",
    "def luminosityFromMag(magnitude):\n",
    "    return ((c.L_bol0).value * 10 ** (-0.4 * (magnitude).value))*u.erg\n",
    "\n",
    "def distance(parallax):\n",
    "    parallax_arcsec = parallax.to('arcsec').value\n",
    "    return 1/parallax_arcsec * u.pc\n",
    "\n",
    "def Magnitude_absolute_from_apparent(mag,dist):\n",
    "    M = mag - 5*np.log10(dist.to('pc')/u.pc)*u.mag + 5.*u.mag\n",
    "    return M\n",
    "\n",
    "def angle_of_star(x,y,z):\n",
    "    l=np.arctan2(y,x)\n",
    "    b=np.arctan(z/np.sqrt(x**2+y**2))\n",
    "    return l,b"
   ]
  },
  {
   "cell_type": "code",
   "execution_count": 4,
   "metadata": {},
   "outputs": [
    {
     "data": {
      "text/html": [
       "<i>QTable masked=True length=700055</i>\n",
       "<table id=\"table1300302092384\" class=\"table-striped table-bordered table-condensed\">\n",
       "<thead><tr><th>source_id</th><th>ra</th><th>ra_error</th><th>dec</th><th>dec_error</th><th>parallax</th><th>parallax_error</th><th>parallax_over_error</th><th>phot_g_mean_mag</th><th>bp_rp</th><th>distance</th></tr></thead>\n",
       "<thead><tr><th></th><th>deg</th><th>mas</th><th>deg</th><th>mas</th><th>mas</th><th>mas</th><th></th><th>mag</th><th>mag</th><th>pc</th></tr></thead>\n",
       "<thead><tr><th>int64</th><th>float64</th><th>float64</th><th>float64</th><th>float64</th><th>float64</th><th>float64</th><th>float32</th><th>float32</th><th>float32</th><th>float64</th></tr></thead>\n",
       "<tr><td>4268956566093383552</td><td>286.82895013795695</td><td>0.669519113820113</td><td>3.068878919405268</td><td>0.5723547027638346</td><td>10.000007375168247</td><td>0.6692301067128285</td><td>14.942554</td><td>19.40914535522461</td><td>nan</td><td>99.99992624837192</td></tr>\n",
       "<tr><td>3680405274634651904</td><td>189.18839410229847</td><td>1.345836035049771</td><td>-4.485016741430886</td><td>1.0027026843634803</td><td>10.000007988017256</td><td>1.5512691246018344</td><td>6.44634</td><td>20.420467376708984</td><td>2.7913665771484375</td><td>99.99992011989124</td></tr>\n",
       "<tr><td>5542991475467702656</td><td>126.34253840045612</td><td>0.01929890031053926</td><td>-35.77303351124245</td><td>0.024117580806190607</td><td>10.000014708063514</td><td>0.028316153216954815</td><td>353.15582</td><td>11.924257278442383</td><td>1.4628915786743164</td><td>99.99985291958119</td></tr>\n",
       "<tr><td>2031252250952531456</td><td>295.02987818683874</td><td>0.7839207121953283</td><td>28.292462705440062</td><td>0.9410096751211614</td><td>10.000016536887419</td><td>1.2941680529154242</td><td>7.7269845</td><td>19.94524574279785</td><td>nan</td><td>99.99983463139928</td></tr>\n",
       "<tr><td>4247659300686406144</td><td>303.2469788950952</td><td>0.3802633188756341</td><td>4.881739000481909</td><td>0.3687946510821689</td><td>10.000034579341506</td><td>0.46504540265895944</td><td>21.503351</td><td>19.38080406188965</td><td>nan</td><td>99.99965420778067</td></tr>\n",
       "<tr><td>3231411455095920256</td><td>72.77801741638869</td><td>0.0593086441744879</td><td>0.5461412910936031</td><td>0.04390774375252735</td><td>10.000035049166929</td><td>0.07440653563624657</td><td>134.39726</td><td>13.859586715698242</td><td>2.05657958984375</td><td>99.99964950955916</td></tr>\n",
       "<tr><td>1462429153039653248</td><td>200.90834287775115</td><td>0.04354019519596024</td><td>30.455280278642267</td><td>0.03342775746423084</td><td>10.000036583802368</td><td>0.06542385149701381</td><td>152.85</td><td>10.515358924865723</td><td>0.999913215637207</td><td>99.9996341633147</td></tr>\n",
       "<tr><td>6035766233137743872</td><td>242.19811584736212</td><td>0.3426785781343227</td><td>-32.6882037161711</td><td>0.24326538307143444</td><td>10.000036927116145</td><td>0.4469612968127237</td><td>22.373384</td><td>11.729708671569824</td><td>1.0707998275756836</td><td>99.99963073020214</td></tr>\n",
       "<tr><td>5907942921152076032</td><td>223.26053466580288</td><td>0.629198132838819</td><td>-44.79735033578177</td><td>0.5150765204746865</td><td>10.000080515453543</td><td>0.9307908106986829</td><td>10.743639</td><td>18.810232162475586</td><td>1.064889907836914</td><td>99.99919485194724</td></tr>\n",
       "<tr><td>...</td><td>...</td><td>...</td><td>...</td><td>...</td><td>...</td><td>...</td><td>...</td><td>...</td><td>...</td><td>...</td></tr>\n",
       "<tr><td>4064581956082565760</td><td>272.70539288992836</td><td>1.0032861869071104</td><td>-26.58108328518761</td><td>1.1242621500920222</td><td>1328.8377893227416</td><td>1.622983055771471</td><td>818.7626</td><td>19.964387893676758</td><td>nan</td><td>0.7525372984084552</td></tr>\n",
       "<tr><td>4062469897267372928</td><td>270.6406216584042</td><td>0.7767993384458663</td><td>-28.620187651072303</td><td>0.7992539381278554</td><td>1369.275212694379</td><td>1.0806328642606542</td><td>1267.1049</td><td>19.2171630859375</td><td>nan</td><td>0.7303133736221362</td></tr>\n",
       "<tr><td>4046453826887613696</td><td>275.5028687648527</td><td>1.591328182936602</td><td>-30.564938591528005</td><td>1.0007131685565587</td><td>1377.7433471537968</td><td>1.4995084494067437</td><td>918.79663</td><td>19.622173309326172</td><td>nan</td><td>0.7258245899469189</td></tr>\n",
       "<tr><td>4065501285215613440</td><td>274.40278620722194</td><td>1.1427315276516583</td><td>-24.163574848141437</td><td>0.9178640372952094</td><td>1392.6879001873735</td><td>1.070634537681354</td><td>1300.806</td><td>19.99091148376465</td><td>nan</td><td>0.7180359647451946</td></tr>\n",
       "<tr><td>4043211293994009216</td><td>268.1770640256022</td><td>1.6337609944872846</td><td>-33.250234674587844</td><td>1.5947590946791281</td><td>1446.766176823821</td><td>1.9318079270634416</td><td>748.9182</td><td>20.184158325195312</td><td>nan</td><td>0.691196695097866</td></tr>\n",
       "<tr><td>4059168373166457472</td><td>259.2971765688338</td><td>1.6407477189213162</td><td>-30.486546962688415</td><td>2.0694449242353987</td><td>1513.989051313032</td><td>2.868580297966132</td><td>527.7834</td><td>20.80168914794922</td><td>nan</td><td>0.6605067580460595</td></tr>\n",
       "<tr><td>4048978992784308992</td><td>273.11242146179956</td><td>1.0926370638449316</td><td>-31.184669714567487</td><td>1.3628242746600558</td><td>1634.2833535533089</td><td>1.9712314983621555</td><td>829.0672</td><td>19.783571243286133</td><td>nan</td><td>0.6118889957642715</td></tr>\n",
       "<tr><td>4051942623265668864</td><td>276.22319346395074</td><td>0.6829586324023676</td><td>-27.140478978057512</td><td>0.5007500183060605</td><td>1686.2659581841303</td><td>1.473535368592552</td><td>1144.3674</td><td>19.349821090698242</td><td>nan</td><td>0.5930262632336232</td></tr>\n",
       "<tr><td>4065202424204492928</td><td>274.9068719056276</td><td>1.2517478977843421</td><td>-25.255882032689016</td><td>1.5714988862767636</td><td>1847.4333489420278</td><td>1.8749374489804027</td><td>985.3306</td><td>19.884387969970703</td><td>0.8425865173339844</td><td>0.5412915169971741</td></tr>\n",
       "<tr><td>4062964299525805952</td><td>272.2378287453136</td><td>1.276152153583349</td><td>-27.6459156411923</td><td>0.8306178540097751</td><td>1851.8821404624455</td><td>1.2850939446366927</td><td>1441.0481</td><td>19.6335506439209</td><td>nan</td><td>0.539991167985606</td></tr>\n",
       "</table>"
      ],
      "text/plain": [
       "<QTable masked=True length=700055>\n",
       "     source_id              ra         ...       bp_rp             distance     \n",
       "                           deg         ...        mag                 pc        \n",
       "       int64             float64       ...      float32            float64      \n",
       "------------------- ------------------ ... ------------------ ------------------\n",
       "4268956566093383552 286.82895013795695 ...                nan  99.99992624837192\n",
       "3680405274634651904 189.18839410229847 ... 2.7913665771484375  99.99992011989124\n",
       "5542991475467702656 126.34253840045612 ... 1.4628915786743164  99.99985291958119\n",
       "2031252250952531456 295.02987818683874 ...                nan  99.99983463139928\n",
       "4247659300686406144  303.2469788950952 ...                nan  99.99965420778067\n",
       "3231411455095920256  72.77801741638869 ...   2.05657958984375  99.99964950955916\n",
       "1462429153039653248 200.90834287775115 ...  0.999913215637207   99.9996341633147\n",
       "6035766233137743872 242.19811584736212 ... 1.0707998275756836  99.99963073020214\n",
       "5907942921152076032 223.26053466580288 ...  1.064889907836914  99.99919485194724\n",
       "                ...                ... ...                ...                ...\n",
       "4064581956082565760 272.70539288992836 ...                nan 0.7525372984084552\n",
       "4062469897267372928  270.6406216584042 ...                nan 0.7303133736221362\n",
       "4046453826887613696  275.5028687648527 ...                nan 0.7258245899469189\n",
       "4065501285215613440 274.40278620722194 ...                nan 0.7180359647451946\n",
       "4043211293994009216  268.1770640256022 ...                nan  0.691196695097866\n",
       "4059168373166457472  259.2971765688338 ...                nan 0.6605067580460595\n",
       "4048978992784308992 273.11242146179956 ...                nan 0.6118889957642715\n",
       "4051942623265668864 276.22319346395074 ...                nan 0.5930262632336232\n",
       "4065202424204492928  274.9068719056276 ... 0.8425865173339844 0.5412915169971741\n",
       "4062964299525805952  272.2378287453136 ...                nan  0.539991167985606"
      ]
     },
     "execution_count": 4,
     "metadata": {},
     "output_type": "execute_result"
    }
   ],
   "source": [
    "#Getting the stars further than 10 parsecs from Proxima Centauri B\n",
    "\n",
    "myquery = \"SELECT TOP 1000000 gaia_source.source_id,gaia_source.ra,gaia_source.ra_error,gaia_source.dec, \\\n",
    "                              gaia_source.dec_error,gaia_source.parallax,gaia_source.parallax_error, \\\n",
    "                              gaia_source.parallax_over_error, gaia_source.phot_g_mean_mag,gaia_source.bp_rp \\\n",
    "           FROM gaiadr2.gaia_source \\\n",
    "           WHERE (gaiadr2.gaia_source.parallax>=10 AND gaiadr2.gaia_source.parallax_over_error>=1)\"\n",
    "\n",
    "r = read_gaia_vot(\"ProxCentBStars.vot\")#get_table_gaia_query(myquery)\n",
    "\n",
    "\n",
    "r['distance'] = distance(r['parallax'])\n",
    "\n",
    "r"
   ]
  },
  {
   "cell_type": "code",
   "execution_count": 38,
   "metadata": {},
   "outputs": [
    {
     "data": {
      "text/html": [
       "<i>QTable masked=True length=1000000</i>\n",
       "<table id=\"table1300360514864\" class=\"table-striped table-bordered table-condensed\">\n",
       "<thead><tr><th>source_id</th><th>ra</th><th>ra_error</th><th>dec</th><th>dec_error</th><th>parallax</th><th>parallax_error</th><th>parallax_over_error</th><th>phot_g_mean_mag</th><th>bp_rp</th><th>radial_velocity</th><th>radial_velocity_error</th><th>phot_variable_flag</th><th>teff_val</th><th>a_g_val</th><th>distance</th></tr></thead>\n",
       "<thead><tr><th></th><th>deg</th><th>mas</th><th>deg</th><th>mas</th><th>mas</th><th>mas</th><th></th><th>mag</th><th>mag</th><th>km / s</th><th>km / s</th><th></th><th>K</th><th>mag</th><th>pc</th></tr></thead>\n",
       "<thead><tr><th>int64</th><th>float64</th><th>float64</th><th>float64</th><th>float64</th><th>float64</th><th>float64</th><th>float32</th><th>float32</th><th>float32</th><th>float64</th><th>float64</th><th>object</th><th>float32</th><th>float32</th><th>float64</th></tr></thead>\n",
       "<tr><td>5867842696999004928</td><td>212.72649342427454</td><td>0.16654569136256123</td><td>-59.05802540463094</td><td>0.23051222235236402</td><td>1.0000000083512135</td><td>0.33775032137096395</td><td>2.960767</td><td>18.77579689025879</td><td>2.7194881439208984</td><td>nan</td><td>nan</td><td>NOT_AVAILABLE</td><td>nan</td><td>nan</td><td>999.9999916487865</td></tr>\n",
       "<tr><td>4087148470108071552</td><td>286.70097523764156</td><td>0.6832211927300303</td><td>-18.394426011791992</td><td>0.5251599912998292</td><td>1.0000000188281026</td><td>0.6256130905694118</td><td>1.5984321</td><td>19.778955459594727</td><td>1.5227794647216797</td><td>nan</td><td>nan</td><td>NOT_AVAILABLE</td><td>nan</td><td>nan</td><td>999.9999811718976</td></tr>\n",
       "<tr><td>1817165684726221056</td><td>306.2463915188333</td><td>0.12586646668012103</td><td>21.605585677368936</td><td>0.1399232199222302</td><td>1.0000000341914919</td><td>0.16816424902644325</td><td>5.9465675</td><td>17.437915802001953</td><td>1.7741317749023438</td><td>nan</td><td>nan</td><td>NOT_AVAILABLE</td><td>nan</td><td>nan</td><td>999.9999658085093</td></tr>\n",
       "<tr><td>5312206389985020160</td><td>143.46501093802237</td><td>0.7195260848050724</td><td>-52.495580723300016</td><td>0.7715394612829777</td><td>1.0000000515892649</td><td>0.8540936566925174</td><td>1.1708318</td><td>20.601932525634766</td><td>1.5536975860595703</td><td>nan</td><td>nan</td><td>NOT_AVAILABLE</td><td>nan</td><td>nan</td><td>999.9999484107378</td></tr>\n",
       "<tr><td>6039135995740281728</td><td>243.56294629266733</td><td>0.6866554663993056</td><td>-28.671862909133143</td><td>0.3101998705718258</td><td>1.0000000522226185</td><td>0.8448436209150945</td><td>1.1836511</td><td>20.005159378051758</td><td>1.1123428344726562</td><td>nan</td><td>nan</td><td>NOT_AVAILABLE</td><td>nan</td><td>nan</td><td>999.9999477773844</td></tr>\n",
       "<tr><td>4051717807494936704</td><td>277.5609064599959</td><td>0.07625275866836724</td><td>-27.47991797294544</td><td>0.0735764418621387</td><td>1.0000000523939314</td><td>0.09362269885636208</td><td>10.681171</td><td>15.776820182800293</td><td>1.3340778350830078</td><td>nan</td><td>nan</td><td>NOT_AVAILABLE</td><td>4572.52490234375</td><td>nan</td><td>999.9999476060713</td></tr>\n",
       "<tr><td>6021361595705122816</td><td>245.13450731900335</td><td>0.18716159418504832</td><td>-37.934294235844185</td><td>0.135557127194438</td><td>1.0000000524828971</td><td>0.21644258641873923</td><td>4.620163</td><td>18.296247482299805</td><td>2.1371383666992188</td><td>nan</td><td>nan</td><td>NOT_AVAILABLE</td><td>nan</td><td>nan</td><td>999.9999475171056</td></tr>\n",
       "<tr><td>5909913280341892992</td><td>264.1261823364954</td><td>0.1906541510608805</td><td>-64.01920341266977</td><td>0.188885470120395</td><td>1.0000000532350783</td><td>0.25829038486476885</td><td>3.8716116</td><td>18.99789047241211</td><td>1.7328987121582031</td><td>nan</td><td>nan</td><td>NOT_AVAILABLE</td><td>nan</td><td>nan</td><td>999.9999467649246</td></tr>\n",
       "<tr><td>1905441075271593344</td><td>333.93583233188673</td><td>0.2496245773816308</td><td>34.74902769878552</td><td>0.2413771489744038</td><td>1.000000053973394</td><td>0.32838326496511827</td><td>3.0452223</td><td>18.840545654296875</td><td>2.098665237426758</td><td>nan</td><td>nan</td><td>NOT_AVAILABLE</td><td>nan</td><td>nan</td><td>999.999946026609</td></tr>\n",
       "<tr><td>...</td><td>...</td><td>...</td><td>...</td><td>...</td><td>...</td><td>...</td><td>...</td><td>...</td><td>...</td><td>...</td><td>...</td><td>...</td><td>...</td><td>...</td><td>...</td></tr>\n",
       "<tr><td>5838220895964669184</td><td>185.467552495507</td><td>0.6148513212846273</td><td>-75.03699214666128</td><td>0.8691699023382583</td><td>1.003796058474799</td><td>0.8482633802902203</td><td>1.1833543</td><td>20.670963287353516</td><td>1.7352409362792969</td><td>nan</td><td>nan</td><td>NOT_AVAILABLE</td><td>nan</td><td>nan</td><td>996.2182970905795</td></tr>\n",
       "<tr><td>5505303133149692288</td><td>108.49933933700453</td><td>0.3542334976581963</td><td>-49.971778938130264</td><td>0.35618886654636994</td><td>1.0037960624815339</td><td>0.38775213369784</td><td>2.588757</td><td>19.806501388549805</td><td>1.6282901763916016</td><td>nan</td><td>nan</td><td>NOT_AVAILABLE</td><td>nan</td><td>nan</td><td>996.2182931140919</td></tr>\n",
       "<tr><td>6030253488004981888</td><td>255.6717194178684</td><td>0.2940035762711865</td><td>-28.095839929613735</td><td>0.20181091156363531</td><td>1.0037960627953861</td><td>0.34253940106355174</td><td>2.9304543</td><td>19.106870651245117</td><td>1.1828460693359375</td><td>nan</td><td>nan</td><td>NOT_AVAILABLE</td><td>nan</td><td>nan</td><td>996.2182928026089</td></tr>\n",
       "<tr><td>5972831798159247232</td><td>259.9359219549431</td><td>0.3567382249356068</td><td>-38.10321150839376</td><td>0.30745079444282397</td><td>1.0037960632142493</td><td>0.43403256188099354</td><td>2.3127205</td><td>18.805978775024414</td><td>4.071918487548828</td><td>nan</td><td>nan</td><td>NOT_AVAILABLE</td><td>nan</td><td>nan</td><td>996.2182923869078</td></tr>\n",
       "<tr><td>5857571750878024320</td><td>198.03357410024455</td><td>0.5149144485520456</td><td>-67.28579691292713</td><td>0.657324238013805</td><td>1.0037960798119483</td><td>0.7835147192595789</td><td>1.2811451</td><td>19.987232208251953</td><td>2.2508010864257812</td><td>nan</td><td>nan</td><td>NOT_AVAILABLE</td><td>nan</td><td>nan</td><td>996.2182759145071</td></tr>\n",
       "<tr><td>5539769317986670080</td><td>123.24859270303851</td><td>0.4848270371662459</td><td>-40.11463463213837</td><td>0.547664630434221</td><td>1.0037960805662194</td><td>0.624465291661981</td><td>1.6074489</td><td>20.24279022216797</td><td>2.2490234375</td><td>nan</td><td>nan</td><td>NOT_AVAILABLE</td><td>nan</td><td>nan</td><td>996.21827516593</td></tr>\n",
       "<tr><td>5490735158130083712</td><td>109.4593801992987</td><td>0.2731012365739283</td><td>-54.94464598401694</td><td>0.21267490569475314</td><td>1.0037960846400287</td><td>0.2219298958417539</td><td>4.523032</td><td>18.655054092407227</td><td>nan</td><td>nan</td><td>nan</td><td>NOT_AVAILABLE</td><td>nan</td><td>nan</td><td>996.2182711228745</td></tr>\n",
       "<tr><td>2126435495052847616</td><td>293.1834575194686</td><td>0.049552856224958</td><td>44.8441712286595</td><td>0.05819898213727812</td><td>1.0037960853188639</td><td>0.05810208772934225</td><td>17.27642</td><td>17.033920288085938</td><td>1.3600006103515625</td><td>nan</td><td>nan</td><td>NOT_AVAILABLE</td><td>4980.0</td><td>0.11069999635219574</td><td>996.2182704491639</td></tr>\n",
       "<tr><td>3292499771378971520</td><td>69.3855174860655</td><td>0.7904855103289876</td><td>8.450164171405948</td><td>0.3726413476550231</td><td>1.0037960859984967</td><td>0.8760827420746143</td><td>1.1457777</td><td>20.15907096862793</td><td>2.5029373168945312</td><td>nan</td><td>nan</td><td>NOT_AVAILABLE</td><td>nan</td><td>nan</td><td>996.2182697746618</td></tr>\n",
       "<tr><td>5943030875526029824</td><td>249.36680323491925</td><td>0.21803117618758544</td><td>-45.6025650545517</td><td>0.16296231402633776</td><td>1.003796086810788</td><td>0.21732432321392867</td><td>4.618885</td><td>18.43494987487793</td><td>3.1156349182128906</td><td>nan</td><td>nan</td><td>NOT_AVAILABLE</td><td>nan</td><td>nan</td><td>996.2182689685026</td></tr>\n",
       "</table>"
      ],
      "text/plain": [
       "<QTable masked=True length=1000000>\n",
       "     source_id              ra         ...       a_g_val            distance    \n",
       "                           deg         ...         mag                 pc       \n",
       "       int64             float64       ...       float32            float64     \n",
       "------------------- ------------------ ... ------------------- -----------------\n",
       "5867842696999004928 212.72649342427454 ...                 nan 999.9999916487865\n",
       "4087148470108071552 286.70097523764156 ...                 nan 999.9999811718976\n",
       "1817165684726221056  306.2463915188333 ...                 nan 999.9999658085093\n",
       "5312206389985020160 143.46501093802237 ...                 nan 999.9999484107378\n",
       "6039135995740281728 243.56294629266733 ...                 nan 999.9999477773844\n",
       "4051717807494936704  277.5609064599959 ...                 nan 999.9999476060713\n",
       "6021361595705122816 245.13450731900335 ...                 nan 999.9999475171056\n",
       "5909913280341892992  264.1261823364954 ...                 nan 999.9999467649246\n",
       "1905441075271593344 333.93583233188673 ...                 nan  999.999946026609\n",
       "                ...                ... ...                 ...               ...\n",
       "5838220895964669184   185.467552495507 ...                 nan 996.2182970905795\n",
       "5505303133149692288 108.49933933700453 ...                 nan 996.2182931140919\n",
       "6030253488004981888  255.6717194178684 ...                 nan 996.2182928026089\n",
       "5972831798159247232  259.9359219549431 ...                 nan 996.2182923869078\n",
       "5857571750878024320 198.03357410024455 ...                 nan 996.2182759145071\n",
       "5539769317986670080 123.24859270303851 ...                 nan   996.21827516593\n",
       "5490735158130083712  109.4593801992987 ...                 nan 996.2182711228745\n",
       "2126435495052847616  293.1834575194686 ... 0.11069999635219574 996.2182704491639\n",
       "3292499771378971520   69.3855174860655 ...                 nan 996.2182697746618\n",
       "5943030875526029824 249.36680323491925 ...                 nan 996.2182689685026"
      ]
     },
     "execution_count": 38,
     "metadata": {},
     "output_type": "execute_result"
    }
   ],
   "source": [
    "#Getting the stars between 1.4 and 2 parsecs away and ra between 281 and 310, and dec between 35 and 50\n",
    "\n",
    "myquery2 = \"SELECT TOP 1000000 gaia_source.source_id,gaia_source.ra,gaia_source.ra_error, \\\n",
    "                               gaia_source.dec,gaia_source.dec_error,gaia_source.parallax,gaia_source.parallax_error, \\\n",
    "                               gaia_source.parallax_over_error,gaia_source.phot_g_mean_mag,gaia_source.bp_rp, \\\n",
    "                               gaia_source.radial_velocity,gaia_source.radial_velocity_error, \\\n",
    "                               gaia_source.phot_variable_flag,gaia_source.teff_val,gaia_source.a_g_val \\\n",
    "            FROM gaiadr2.gaia_source \\\n",
    "            WHERE (gaiadr2.gaia_source.ra>=5.56014098062107 AND gaiadr2.gaia_source.ra<=350.56014098062107 \\\n",
    "               AND gaiadr2.gaia_source.dec>=-80.587831532659646 AND gaiadr2.gaia_source.dec<=80.587831532659646 \\\n",
    "               AND gaiadr2.gaia_source.parallax>=1 AND gaiadr2.gaia_source.parallax<=18.068624923468156 \\\n",
    "               AND gaiadr2.gaia_source.parallax_over_error>=1)\"\n",
    "\n",
    "p = get_table_gaia_query(myquery2)\n",
    "\n",
    "p['distance'] = distance(p['parallax'])\n",
    "\n",
    "p"
   ]
  },
  {
   "cell_type": "code",
   "execution_count": 22,
   "metadata": {},
   "outputs": [
    {
     "data": {
      "text/plain": [
       "<SkyCoord (Galactocentric: galcen_coord=<ICRS Coordinate: (ra, dec) in deg\n",
       "    (266.4051, -28.936175)>, galcen_distance=8.3 kpc, galcen_v_sun=(11.1, 232.24, 7.25) km / s, z_sun=27.0 pc, roll=0.0 deg): (x, y, z) in pc\n",
       "    [(-8220.66213859,  6.08005342e+01,  23.03131246),\n",
       "     (-8276.59143639, -4.73876141e+01, 111.90283439),\n",
       "     (-8326.10804401, -9.64945299e+01,  29.20256429), ...,\n",
       "     (-8299.37034114,  5.95560953e-02,  26.92901924),\n",
       "     (-8299.42076623,  6.51441958e-02,  26.95323048),\n",
       "     (-8299.4185165 ,  3.46835404e-02,  26.96247052)]>"
      ]
     },
     "execution_count": 22,
     "metadata": {},
     "output_type": "execute_result"
    }
   ],
   "source": [
    "#Converting the ra, dec, and distance into Sky Coordinates, and then into Galactocentric Coordinates\n",
    "KeplerSky=coord.SkyCoord(ra=r['ra'],dec=r['dec'],distance=r['distance'])\n",
    "KeplerGC=KeplerSky.galactocentric\n",
    "KeplerGC"
   ]
  },
  {
   "cell_type": "code",
   "execution_count": 23,
   "metadata": {},
   "outputs": [],
   "source": [
    "#Finding Sky Coordinates of Kepler 452\n",
    "Kepler452=coord.SkyCoord(ra=293.2609013066638*u.degree,dec=44.86886564417808*u.degree,distance=distance(1.3398916644968708*u.mas))"
   ]
  },
  {
   "cell_type": "code",
   "execution_count": 24,
   "metadata": {},
   "outputs": [],
   "source": [
    "#Converting Kepler 4452 Sky Coordinates into Galactocentric Coordinates\n",
    "Kepler452G=Kepler452.galactocentric"
   ]
  },
  {
   "cell_type": "code",
   "execution_count": 25,
   "metadata": {},
   "outputs": [],
   "source": [
    "#Finding the distances between the x,y,z of the stars in our query and Kepler 452's x,y,z\n",
    "x=(KeplerGC.x-Kepler452G.x)\n",
    "y=(KeplerGC.y-Kepler452G.y)\n",
    "z=(KeplerGC.z-Kepler452G.z)"
   ]
  },
  {
   "cell_type": "code",
   "execution_count": 26,
   "metadata": {},
   "outputs": [],
   "source": [
    "#Using our method angle_of_star to solve for L,B in Galactic\n",
    "L,B=angle_of_star(x,y,z)"
   ]
  },
  {
   "cell_type": "code",
   "execution_count": 36,
   "metadata": {},
   "outputs": [],
   "source": [
    "#Finding the apparent magnitudes of the stars from the neighboring stars\n",
    "r['Mg'] = Magnitude_absolute_from_apparent(r['phot_g_mean_mag'], r['distance'])\n",
    "r['otherDistance'] = np.sqrt(x.value**2+y.value**2+z.value**2)*u.pc\n",
    "r['m'] = (r['Mg'].value - 5 + 5*np.log10(r['otherDistance'].value))*u.mag"
   ]
  },
  {
   "cell_type": "code",
   "execution_count": 37,
   "metadata": {},
   "outputs": [
    {
     "data": {
      "image/png": "[encoded data removed]",
      "text/plain": [
       "<Figure size 432x288 with 1 Axes>"
      ]
     },
     "metadata": {
      "needs_background": "light"
     },
     "output_type": "display_data"
    }
   ],
   "source": [
    "#Plotting the Right Ascension and Declination found previously and adding the new apparent magnitude to get a nice graph\n",
    "fig = plt.figure()\n",
    "ax = fig.add_subplot(1, 1, 1)\n",
    "plt.subplot(111, projection = \"mollweide\")\n",
    "\n",
    "plt.scatter((L.to('degree')).value, (B.to('degree').value), s = 1, c = (r['m']), alpha = 0.1, cmap = \"gist_gray_r\")\n",
    "ax.set_facecolor(\"Black\")\n",
    "\n",
    "plt.xlabel(\"Right Ascension (Degrees)\")\n",
    "plt.ylabel(\"Declination (Degrees)\")\n",
    "\n",
    "#plt.xlim(-180,0)\n",
    "#plt.ylim(-75,75)\n",
    "plt.show()\n",
    "\n"
   ]
  },
  {
   "cell_type": "code",
   "execution_count": null,
   "metadata": {},
   "outputs": [],
   "source": [
    "#Repeating all steps for Proxima Centauri B\n",
    "ProxSky=coord.SkyCoord(ra=r['ra'],dec=r['dec'],distance=r['distance'])\n",
    "ProxGC=ProxSky.galactocentric"
   ]
  },
  {
   "cell_type": "code",
   "execution_count": null,
   "metadata": {},
   "outputs": [],
   "source": [
    "ProxCent=coord.SkyCoord(ra=293.2609013066638*u.degree,dec=44.86886564417808*u.degree,distance=distance(1.3398916644968708*u.mas))"
   ]
  },
  {
   "cell_type": "code",
   "execution_count": 29,
   "metadata": {},
   "outputs": [],
   "source": [
    "ProxCentG=ProxCent.galactocentric"
   ]
  },
  {
   "cell_type": "code",
   "execution_count": 30,
   "metadata": {},
   "outputs": [],
   "source": [
    "x1=(ProxGC.x-ProxCentG.x)\n",
    "y1=(ProxGC.y-ProxCentG.y)\n",
    "z1=(ProxGC.z-ProxCentG.z)"
   ]
  },
  {
   "cell_type": "code",
   "execution_count": 31,
   "metadata": {},
   "outputs": [],
   "source": [
    "L1,B1=angle_of_star(x1,y1,z1)"
   ]
  },
  {
   "cell_type": "code",
   "execution_count": 32,
   "metadata": {},
   "outputs": [],
   "source": [
    "r['Mg'] = Magnitude_absolute_from_apparent(r['phot_g_mean_mag'], r['distance'])\n",
    "\n",
    "r['m'] = (r['Mg'].value - 5 + 5*np.log10(np.sqrt(x1.value**2+y1.value**2+z1.value**2)))*u.mag"
   ]
  },
  {
   "cell_type": "code",
   "execution_count": 33,
   "metadata": {},
   "outputs": [
    {
     "data": {
      "image/png": "[encoded data removed]",
      "text/plain": [
       "<Figure size 432x288 with 1 Axes>"
      ]
     },
     "metadata": {
      "needs_background": "light"
     },
     "output_type": "display_data"
    }
   ],
   "source": [
    "fig = plt.figure()\n",
    "ax = fig.add_subplot(1, 1, 1)\n",
    "#plt.subplot(111, projection = \"mollweide\") c = (r['m']), alpha = 0.1, cmap = \"gray_r\"\n",
    "\n",
    "plt.scatter((L.to('degree')).value, (B.to('degree').value), s = 1, c = (r['m']), alpha = 0.1, cmap = \"gray_r\")\n",
    "ax.set_facecolor(\"Black\")\n",
    "\n",
    "plt.xlabel(\"Right Ascension (Degrees)\")\n",
    "plt.ylabel(\"Declination (Degrees)\")\n",
    "\n",
    "plt.xlim(180,-180)\n",
    "plt.ylim(-90,90)\n",
    "plt.show()"
   ]
  },
  {
   "cell_type": "code",
   "execution_count": 34,
   "metadata": {},
   "outputs": [
    {
     "data": {
      "text/plain": [
       "1000000"
      ]
     },
     "execution_count": 34,
     "metadata": {},
     "output_type": "execute_result"
    }
   ],
   "source": [
    "len(p)"
   ]
  },
  {
   "cell_type": "code",
   "execution_count": 35,
   "metadata": {},
   "outputs": [
    {
     "data": {
      "text/plain": [
       "700055"
      ]
     },
     "execution_count": 35,
     "metadata": {},
     "output_type": "execute_result"
    }
   ],
   "source": [
    "len(r)"
   ]
  },
  {
   "cell_type": "code",
   "execution_count": null,
   "metadata": {},
   "outputs": [],
   "source": []
  },
  {
   "cell_type": "code",
   "execution_count": null,
   "metadata": {},
   "outputs": [],
   "source": []
  }
 ],
 "metadata": {
  "kernelspec": {
   "display_name": "Python 3",
   "language": "python",
   "name": "python3"
  },
  "language_info": {
   "codemirror_mode": {
    "name": "ipython",
    "version": 3
   },
   "file_extension": ".py",
   "mimetype": "text/x-python",
   "name": "python",
   "nbconvert_exporter": "python",
   "pygments_lexer": "ipython3",
   "version": "3.7.3"
  }
 },
 "nbformat": 4,
 "nbformat_minor": 2
}
