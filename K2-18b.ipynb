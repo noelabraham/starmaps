{
 "cells": [
  {
   "cell_type": "markdown",
   "metadata": {},
   "source": [
    "\"SELECT TOP 1000000 gaia_source.source_id,gaia_source.ra,gaia_source.ra_error, \\\n",
    "                               gaia_source.dec,gaia_source.dec_error,gaia_source.parallax,gaia_source.parallax_error, \\\n",
    "                               gaia_source.parallax_over_error,gaia_source.phot_g_mean_mag,gaia_source.bp_rp, \\\n",
    "                               gaia_source.radial_velocity,gaia_source.radial_velocity_error, \\\n",
    "                               gaia_source.phot_variable_flag,gaia_source.teff_val,gaia_source.a_g_val \\\n",
    "            FROM gaiadr2.gaia_source \\\n",
    "            WHERE (gaiadr2.gaia_source.ra>=10.56014098062107 AND gaiadr2.gaia_source.ra<=334.56014098062107 \\\n",
    "               AND gaiadr2.gaia_source.dec>=-75.587831532659646 AND gaiadr2.gaia_source.dec<=89.587831532659646 \\\n",
    "               AND gaiadr2.gaia_source.parallax>=11.468624923468156 AND gaiadr2.gaia_source.parallax<=44.068624923468156 \\\n",
    "               AND gaiadr2.gaia_source.parallax_over_error>=1)\"\n",
    "Simbad, Ned, Vizier"
   ]
  },
  {
   "cell_type": "code",
   "execution_count": 3,
   "metadata": {},
   "outputs": [
    {
     "name": "stdout",
     "output_type": "stream",
     "text": "Created TAP+ (v1.2.1) - Connection:\n\tHost: gea.esac.esa.int\n\tUse HTTPS: True\n\tPort: 443\n\tSSL Port: 443\nCreated TAP+ (v1.2.1) - Connection:\n\tHost: geadata.esac.esa.int\n\tUse HTTPS: True\n\tPort: 443\n\tSSL Port: 443\ngzip was not found on your system! You should solve this issue for astroquery.eso to be at its best!\nOn POSIX system: make sure gzip is installed and in your path!On Windows: same for 7-zip (http://www.7-zip.org)!\n"
    }
   ],
   "source": [
    "import matplotlib.pyplot as plot\n",
    "import numpy as np\n",
    "from astropy.io.votable import parse_single_table\n",
    "import astropy.units as u\n",
    "import astropy.constants as c\n",
    "from astropy.table import QTable\n",
    "import astropy.coordinates as coord\n",
    "from matplotlib import colors\n",
    "from mpl_toolkits import mplot3d\n",
    "from mpl_toolkits.mplot3d import Axes3D\n",
    "from PyAstronomy import pyasl\n",
    "import warnings\n",
    "warnings.filterwarnings('ignore')\n",
    "from astroquery.gaia import Gaia\n",
    "import utilities as util"
   ]
  },
  {
   "cell_type": "code",
   "execution_count": 4,
   "metadata": {},
   "outputs": [],
   "source": [
    "#Querying methods\n",
    "\n",
    "def read_gaia_vot(filename):\n",
    "    return QTable(parse_single_table(filename).to_table())\n",
    "\n",
    "def get_table_gaia_query(myquery):\n",
    "    return QTable(Gaia.launch_job_async(myquery, dump_to_file = True).get_results())"
   ]
  },
  {
   "cell_type": "code",
   "execution_count": 5,
   "metadata": {},
   "outputs": [],
   "source": [
    "#Astronomy methods\n",
    "\n",
    "def luminosityFromMag(magnitude):\n",
    "    return ((c.L_bol0).value * 10 ** (-0.4 * (magnitude).value))*u.erg\n",
    "\n",
    "def distance(parallax):\n",
    "    parallax_arcsec = parallax.to('arcsec').value\n",
    "    return 1/parallax_arcsec * u.pc\n",
    "\n",
    "def Magnitude_absolute_from_apparent(mag,dist):\n",
    "    M = mag - 5*np.log10(dist.to('pc')/u.pc)*u.mag + 5.*u.mag\n",
    "    return M\n",
    "\n",
    "def angle_of_star(x,y,z):\n",
    "    l=np.arctan2(y,x)\n",
    "    b=np.arctan(z/np.sqrt(x**2+y**2))\n",
    "    return l,b"
   ]
  },
  {
   "cell_type": "code",
   "execution_count": 6,
   "metadata": {},
   "outputs": [],
   "source": [
    "a=\"trappist-1e\"\n"
   ]
  },
  {
   "cell_type": "code",
   "execution_count": 7,
   "metadata": {},
   "outputs": [],
   "source": [
    "ra, dec, pmra, pmdec = util.exoplanetProperMotion(a)\n",
    "raminor = np.maximum(ra-350, 1)\n",
    "ramajor = np.minimum(ra+350, 359)\n",
    "decminor = np.maximum(dec-170, -89)\n",
    "decmajor = np.minimum(dec+170, 89)"
   ]
  },
  {
   "cell_type": "code",
   "execution_count": 8,
   "metadata": {},
   "outputs": [
    {
     "name": "stdout",
     "output_type": "stream",
     "text": "80.45124261077767 mas\n"
    }
   ],
   "source": [
    "myquery1 = \"SELECT TOP 500 *\\\n",
    "            FROM gaiadr2.gaia_source \\\n",
    "            WHERE CONTAINS(POINT('ICRS',gaiadr2.gaia_source.ra,gaiadr2.gaia_source.dec),CIRCLE('ICRS',COORD1(EPOCH_PROP_POS(\"+ str(ra) +\",\"+ str(dec) +\",0,\"+ str(pmra) +\",\"+ str(pmdec) +\",0,2000,2015.5)),COORD2(EPOCH_PROP_POS(\"+ str(ra) +\",\"+ str(dec) +\",0,\"+ str(pmra) +\",\"+ str(pmdec) +\",0,2000,2015.5)),0.001388888888888889))=1\"\n",
    "\n",
    "b = get_table_gaia_query(myquery1)\n",
    "\n",
    "for row in b:\n",
    "    plx=row['parallax']\n",
    "print(plx)\n",
    "plxmajor=(np.minimum((plx.value)+20, 89))\n",
    "plxminor=(np.maximum((plx.value)-70, 1))"
   ]
  },
  {
   "cell_type": "code",
   "execution_count": 9,
   "metadata": {},
   "outputs": [
    {
     "data": {
      "text/html": "<i>QTable masked=True length=603290</i>\n<table id=\"table2271789298888\" class=\"table-striped table-bordered table-condensed\">\n<thead><tr><th>source_id</th><th>ra</th><th>ra_error</th><th>dec</th><th>dec_error</th><th>parallax</th><th>parallax_error</th><th>parallax_over_error</th><th>phot_g_mean_mag</th><th>bp_rp</th><th>radial_velocity</th><th>radial_velocity_error</th><th>phot_variable_flag</th><th>teff_val</th><th>a_g_val</th><th>astrometric_pseudo_colour</th></tr></thead>\n<thead><tr><th></th><th>deg</th><th>mas</th><th>deg</th><th>mas</th><th>mas</th><th>mas</th><th></th><th>mag</th><th>mag</th><th>km / s</th><th>km / s</th><th></th><th>K</th><th>mag</th><th>1 / um</th></tr></thead>\n<thead><tr><th>int64</th><th>float64</th><th>float64</th><th>float64</th><th>float64</th><th>float64</th><th>float64</th><th>float32</th><th>float32</th><th>float32</th><th>float64</th><th>float64</th><th>object</th><th>float32</th><th>float32</th><th>float64</th></tr></thead>\n<tr><td>3952456646420814208</td><td>185.5363048485253</td><td>0.10567704064629366</td><td>21.679595792117105</td><td>0.08749325932172013</td><td>10.451243541945608</td><td>0.15876465858072134</td><td>65.82853</td><td>16.990694046020508</td><td>3.1295223236083984</td><td>nan</td><td>nan</td><td>NOT_AVAILABLE</td><td>3693.2548828125</td><td>nan</td><td>1.23627781777384</td></tr>\n<tr><td>2364357235633321856</td><td>8.52910676547077</td><td>0.14216349289481725</td><td>-17.450022231199902</td><td>0.1186865566841158</td><td>10.45124656033651</td><td>0.18620830924780674</td><td>56.12664</td><td>18.00710105895996</td><td>3.2301483154296875</td><td>nan</td><td>nan</td><td>NOT_AVAILABLE</td><td>nan</td><td>nan</td><td>1.3056534072554848</td></tr>\n<tr><td>4093238252695846016</td><td>278.572383861155</td><td>0.6948452434314757</td><td>-19.027282184172662</td><td>0.6829755149509712</td><td>10.451246805280254</td><td>0.7125618079998939</td><td>14.667144</td><td>18.85920524597168</td><td>1.5197391510009766</td><td>nan</td><td>nan</td><td>NOT_AVAILABLE</td><td>nan</td><td>nan</td><td>1.6275073166227887</td></tr>\n<tr><td>5872882519003780352</td><td>227.4937706996403</td><td>0.7315287138649058</td><td>-64.92854429702076</td><td>1.4090716068164635</td><td>10.45124880334386</td><td>2.2884003453466137</td><td>4.5670543</td><td>20.495744705200195</td><td>1.7268257141113281</td><td>nan</td><td>nan</td><td>NOT_AVAILABLE</td><td>nan</td><td>nan</td><td>1.6651915202708003</td></tr>\n<tr><td>4090827504786855680</td><td>274.38045222944095</td><td>0.8825309835320339</td><td>-21.72980420267364</td><td>0.8054537048841168</td><td>10.451249642696167</td><td>0.9379138990998355</td><td>11.14308</td><td>19.353837966918945</td><td>nan</td><td>nan</td><td>nan</td><td>NOT_AVAILABLE</td><td>nan</td><td>nan</td><td>0.4263443396397708</td></tr>\n<tr><td>5249408672412795008</td><td>145.75006302711517</td><td>0.058997336760760036</td><td>-64.37459105887312</td><td>0.06511916509290941</td><td>10.451249794861903</td><td>0.06654346813561647</td><td>157.05899</td><td>16.032583236694336</td><td>2.911214828491211</td><td>nan</td><td>nan</td><td>NOT_AVAILABLE</td><td>4618.93994140625</td><td>0.2460000067949295</td><td>1.2504423601023043</td></tr>\n<tr><td>5854127698187999232</td><td>215.62284617604405</td><td>0.379155820501989</td><td>-63.12515094203675</td><td>0.5489943312954971</td><td>10.451254476370963</td><td>0.8780804700466502</td><td>11.902388</td><td>18.180984497070312</td><td>2.0004348754882812</td><td>nan</td><td>nan</td><td>NOT_AVAILABLE</td><td>nan</td><td>nan</td><td>1.3871361606291017</td></tr>\n<tr><td>5903211001080727424</td><td>226.8910342330614</td><td>1.054896854226366</td><td>-48.54173416308973</td><td>0.8333569298578672</td><td>10.451254809749084</td><td>1.3605554313234236</td><td>7.681609</td><td>20.56606674194336</td><td>1.1787090301513672</td><td>nan</td><td>nan</td><td>NOT_AVAILABLE</td><td>nan</td><td>nan</td><td>1.1973099189830094</td></tr>\n<tr><td>3709402145038149760</td><td>192.47891682464473</td><td>0.06244096565212758</td><td>6.839974698453062</td><td>0.04696368371952106</td><td>10.45125612430407</td><td>0.07866575992409221</td><td>132.85648</td><td>16.484554290771484</td><td>2.9039926528930664</td><td>nan</td><td>nan</td><td>NOT_AVAILABLE</td><td>4051.35498046875</td><td>0.10499999672174454</td><td>1.2949635570991076</td></tr>\n<tr><td>...</td><td>...</td><td>...</td><td>...</td><td>...</td><td>...</td><td>...</td><td>...</td><td>...</td><td>...</td><td>...</td><td>...</td><td>...</td><td>...</td><td>...</td><td>...</td></tr>\n<tr><td>4049038916041297536</td><td>271.9669285845828</td><td>1.112081691704911</td><td>-31.723014090524618</td><td>0.5718228820053718</td><td>88.70679718683434</td><td>1.1792907054161355</td><td>75.22047</td><td>19.45020866394043</td><td>nan</td><td>nan</td><td>nan</td><td>NOT_AVAILABLE</td><td>nan</td><td>nan</td><td>1.4631673656430768</td></tr>\n<tr><td>4383790518216171264</td><td>250.0256909932849</td><td>0.060555111023137424</td><td>0.7045562296262595</td><td>0.037465965486645394</td><td>88.71927740475397</td><td>0.06704268460970678</td><td>1323.3252</td><td>12.193336486816406</td><td>3.0339155197143555</td><td>nan</td><td>nan</td><td>NOT_AVAILABLE</td><td>3552.68505859375</td><td>0.2644999921321869</td><td>1.2463666631177763</td></tr>\n<tr><td>5959737748540750592</td><td>259.72602992789103</td><td>0.10319039820219629</td><td>-41.531726200016784</td><td>0.09368563519246181</td><td>88.78847815618352</td><td>0.1768215133876368</td><td>502.13617</td><td>14.578309059143066</td><td>4.335309982299805</td><td>nan</td><td>nan</td><td>NOT_AVAILABLE</td><td>3293.0</td><td>0.46700000762939453</td><td>1.1260809525357636</td></tr>\n<tr><td>4327580052130121728</td><td>251.34044758150657</td><td>0.11498896602916356</td><td>-13.334664009421667</td><td>0.06802426940248264</td><td>88.82200445441903</td><td>0.14443830614068054</td><td>614.9477</td><td>17.227783203125</td><td>4.907841682434082</td><td>nan</td><td>nan</td><td>NOT_AVAILABLE</td><td>nan</td><td>nan</td><td>1.1478723797776194</td></tr>\n<tr><td>4118752523118093824</td><td>268.24032859997715</td><td>0.8101179148110292</td><td>-20.47467009178288</td><td>0.9832208618792748</td><td>88.84540943739626</td><td>1.3859848551858513</td><td>64.10273</td><td>19.283533096313477</td><td>1.8670196533203125</td><td>nan</td><td>nan</td><td>NOT_AVAILABLE</td><td>nan</td><td>nan</td><td>1.2697601501800042</td></tr>\n<tr><td>4047745443766286208</td><td>277.0951058015074</td><td>1.4887343131192579</td><td>-30.195090642677222</td><td>1.4143511905932935</td><td>88.8526555083121</td><td>1.8356818035384073</td><td>48.40308</td><td>20.078317642211914</td><td>nan</td><td>nan</td><td>nan</td><td>NOT_AVAILABLE</td><td>nan</td><td>nan</td><td>2.000542498867072</td></tr>\n<tr><td>1332966881549315456</td><td>247.82747111097714</td><td>0.060920208333060236</td><td>40.86568138857444</td><td>0.07586764343280417</td><td>88.859796208405</td><td>0.07712660957159867</td><td>1152.1289</td><td>12.951912879943848</td><td>3.528606414794922</td><td>nan</td><td>nan</td><td>NOT_AVAILABLE</td><td>3547.606689453125</td><td>0.527999997138977</td><td>1.2076169074984764</td></tr>\n<tr><td>4064728805326806016</td><td>272.9068249320894</td><td>1.1567153316267653</td><td>-26.027073810814915</td><td>0.8399160603942809</td><td>88.89209775755641</td><td>1.1203673816737667</td><td>79.34192</td><td>19.150070190429688</td><td>nan</td><td>nan</td><td>nan</td><td>NOT_AVAILABLE</td><td>nan</td><td>nan</td><td>nan</td></tr>\n<tr><td>145421309108301184</td><td>67.25020492181162</td><td>0.0450564592367702</td><td>21.923451047346216</td><td>0.025425052182500116</td><td>88.96217457218263</td><td>0.04936543636318095</td><td>1802.1146</td><td>7.699995517730713</td><td>1.7477383613586426</td><td>-35.6785543459561</td><td>0.12478638147918888</td><td>NOT_AVAILABLE</td><td>4154.9599609375</td><td>0.8034999966621399</td><td>1.4462221892615843</td></tr>\n<tr><td>4044215908319461376</td><td>269.8549693548737</td><td>1.4236882074871844</td><td>-30.407412947559028</td><td>1.401305310421384</td><td>88.99209649652019</td><td>1.956282767577301</td><td>45.490406</td><td>20.026592254638672</td><td>nan</td><td>nan</td><td>nan</td><td>NOT_AVAILABLE</td><td>nan</td><td>nan</td><td>1.703418830057218</td></tr>\n</table>",
      "text/plain": "<QTable masked=True length=603290>\n     source_id              ra         ... astrometric_pseudo_colour\n                           deg         ...           1 / um         \n       int64             float64       ...          float64         \n------------------- ------------------ ... -------------------------\n3952456646420814208  185.5363048485253 ...          1.23627781777384\n2364357235633321856   8.52910676547077 ...        1.3056534072554848\n4093238252695846016   278.572383861155 ...        1.6275073166227887\n5872882519003780352  227.4937706996403 ...        1.6651915202708003\n4090827504786855680 274.38045222944095 ...        0.4263443396397708\n5249408672412795008 145.75006302711517 ...        1.2504423601023043\n5854127698187999232 215.62284617604405 ...        1.3871361606291017\n5903211001080727424  226.8910342330614 ...        1.1973099189830094\n3709402145038149760 192.47891682464473 ...        1.2949635570991076\n                ...                ... ...                       ...\n4049038916041297536  271.9669285845828 ...        1.4631673656430768\n4383790518216171264  250.0256909932849 ...        1.2463666631177763\n5959737748540750592 259.72602992789103 ...        1.1260809525357636\n4327580052130121728 251.34044758150657 ...        1.1478723797776194\n4118752523118093824 268.24032859997715 ...        1.2697601501800042\n4047745443766286208  277.0951058015074 ...         2.000542498867072\n1332966881549315456 247.82747111097714 ...        1.2076169074984764\n4064728805326806016  272.9068249320894 ...                       nan\n 145421309108301184  67.25020492181162 ...        1.4462221892615843\n4044215908319461376  269.8549693548737 ...         1.703418830057218"
     },
     "execution_count": 9,
     "metadata": {},
     "output_type": "execute_result"
    }
   ],
   "source": [
    "#Getting the stars between 1.4 and 2 parsecs away and ra between 281 and 310, and dec between 35 and 50\n",
    "\n",
    "myquery2 = \"SELECT TOP 1000000 gaia_source.source_id,gaia_source.ra,gaia_source.ra_error, \\\n",
    "                               gaia_source.dec,gaia_source.dec_error,gaia_source.parallax,gaia_source.parallax_error, \\\n",
    "                               gaia_source.parallax_over_error,gaia_source.phot_g_mean_mag,gaia_source.bp_rp, \\\n",
    "                               gaia_source.radial_velocity,gaia_source.radial_velocity_error, \\\n",
    "                               gaia_source.phot_variable_flag,gaia_source.teff_val,gaia_source.a_g_val, gaia_source.astrometric_pseudo_colour \\\n",
    "            FROM gaiadr2.gaia_source \\\n",
    "            WHERE (gaiadr2.gaia_source.ra>=\"+ str(raminor) + \" AND gaiadr2.gaia_source.ra<=\"+ str(ramajor) +\"\\\n",
    "               AND gaiadr2.gaia_source.dec>=\"+ str(decminor) +\" AND gaiadr2.gaia_source.dec<=\"+ str(decmajor) +\" \\\n",
    "               AND gaiadr2.gaia_source.parallax>=\"+ str(plxminor) +\" AND gaiadr2.gaia_source.parallax<=\"+ str(plxmajor) +\" \\\n",
    "               AND gaiadr2.gaia_source.parallax_over_error>=1)\"\n",
    "\n",
    "p = get_table_gaia_query(myquery2)\n",
    "\n",
    "p"
   ]
  },
  {
   "cell_type": "code",
   "execution_count": 10,
   "metadata": {},
   "outputs": [
    {
     "data": {
      "text/plain": "<SkyCoord (ICRS): (ra, dec, distance) in (deg, deg, pc)\n    [(185.53630485,  21.67959579, 95.68239377),\n     (  8.52910677, -17.45002223, 95.68236614),\n     (278.57238386, -19.02728218, 95.6823639 ), ...,\n     (272.90682493, -26.02707381, 11.24959389),\n     ( 67.25020492,  21.92345105, 11.24073242),\n     (269.85496935, -30.40741295, 11.23695294)]>"
     },
     "execution_count": 10,
     "metadata": {},
     "output_type": "execute_result"
    }
   ],
   "source": [
    "largedistance = distance(p['parallax'])\n",
    "K2Sky=coord.SkyCoord(ra=p['ra'],dec=p['dec'],distance=largedistance)\n",
    "K2GC=K2Sky.galactocentric\n",
    "K2Sky"
   ]
  },
  {
   "cell_type": "code",
   "execution_count": 11,
   "metadata": {},
   "outputs": [
    {
     "data": {
      "text/plain": "<SkyCoord (ICRS): (ra, dec, distance) in (deg, deg, pc)\n    (346.62233333, -5.04144444, 12.42988881)>"
     },
     "execution_count": 11,
     "metadata": {},
     "output_type": "execute_result"
    }
   ],
   "source": [
    "#Finding Sky Coordinates of Kepler 452\n",
    "ra= ra*u.degree\n",
    "dec= dec*u.degree\n",
    "distance=distance(plx)\n",
    "K218b=coord.SkyCoord(ra,dec,distance)\n",
    "K218b"
   ]
  },
  {
   "cell_type": "code",
   "execution_count": 12,
   "metadata": {},
   "outputs": [
    {
     "data": {
      "text/plain": "<SkyCoord (Galactocentric: galcen_coord=<ICRS Coordinate: (ra, dec) in deg\n    (266.4051, -28.936175)>, galcen_distance=8.3 kpc, galcen_v_sun=(11.1, 232.24, 7.25) km / s, z_sun=27.0 pc, roll=0.0 deg): (x, y, z) in pc\n    (-8297.62019463, 6.41038235, 16.60996854)>"
     },
     "execution_count": 12,
     "metadata": {},
     "output_type": "execute_result"
    }
   ],
   "source": [
    "#Converting Kepler 4452 Sky Coordinates into Galactocentric Coordinates\n",
    "K218bG=K218b.galactocentric\n",
    "K218bG"
   ]
  },
  {
   "cell_type": "code",
   "execution_count": 13,
   "metadata": {},
   "outputs": [
    {
     "name": "stdout",
     "output_type": "stream",
     "text": "[ -6.78126225  -5.53726055  90.11369429 ...   8.83998571 -12.99856494\n   8.87980721] pc\n[-19.91985378  10.73787766  16.73751652 ...  -5.35352321  -5.56057111\n  -6.36003771] pc\n[105.00955017 -83.6886781    1.88332946 ...   9.65775923   6.93471082\n   9.70103073] pc\n"
    }
   ],
   "source": [
    "#Finding the distances between the x,y,z of the stars in our query and Kepler 452's x,y,z\n",
    "x=(K2GC.x-K218bG.x)\n",
    "y=(K2GC.y-K218bG.y)\n",
    "z=(K2GC.z-K218bG.z)\n",
    "\n",
    "print(x)\n",
    "print(y)\n",
    "print(z)"
   ]
  },
  {
   "cell_type": "code",
   "execution_count": 14,
   "metadata": {},
   "outputs": [],
   "source": [
    "#Using our method angle_of_star to solve for L,B in Galactic\n",
    "L,B=angle_of_star(x,y,z)"
   ]
  },
  {
   "cell_type": "code",
   "execution_count": 15,
   "metadata": {},
   "outputs": [
    {
     "data": {
      "text/latex": "$[808.87968,~765.90004,~614.43656,~\\dots,~{\\rm NaN},~691.45668,~587.05468] \\; \\mathrm{nm}$",
      "text/plain": "<Quantity [808.87967544, 765.90004242, 614.43656184, ...,          nan,\n           691.45668447, 587.05468224] nm>"
     },
     "execution_count": 15,
     "metadata": {},
     "output_type": "execute_result"
    }
   ],
   "source": [
    "#Finding the apparent magnitudes of the stars from the neighboring stars\n",
    "p['Mg'] = Magnitude_absolute_from_apparent(p['phot_g_mean_mag'], largedistance)\n",
    "p['otherDistance'] = np.sqrt(x.value**2+y.value**2+z.value**2)*u.pc\n",
    "p['m'] = (p['Mg'].value - 5 + 5*np.log10(p['otherDistance'].value))*u.mag\n",
    "p['wavelength']=((1/p['astrometric_pseudo_colour'])*1000)*u.nm/u.um\n",
    "p['wavelength']"
   ]
  },
  {
   "cell_type": "code",
   "execution_count": 18,
   "metadata": {},
   "outputs": [],
   "source": [
    "fig = plot.figure(figsize=(12.8, 9.6))\n",
    "ax = fig.add_subplot(1,1,1)\n",
    "\n",
    "\n",
    "plot.scatter((L.to('degree')).value, (B.to('degree').value), s = 1, c = (p['wavelength']), alpha = 0.1, cmap = \"nipy_spectral\")\n",
    "ax.set_facecolor(\"Black\")\n",
    "plot.clim(400, 800)\n",
    "\n",
    "plot.scatter((L.to('degree')).value, (B.to('degree').value), s = 1, c = (p['m']), alpha = 0.1, cmap = \"gray\")\n",
    "ax.set_facecolor(\"Black\")\n",
    "\n",
    "plot.xlabel(\"Right Ascension (Degrees)\")\n",
    "plot.ylabel(\"Declination (Degrees)\")\n",
    "\n",
    "plot.xlim(180,-180)\n",
    "plot.ylim(-90,90)\n",
    "plot.show()"
   ]
  },
  {
   "cell_type": "code",
   "execution_count": 19,
   "metadata": {},
   "outputs": [
    {
     "data": {
      "text/plain": "603290"
     },
     "execution_count": 19,
     "metadata": {},
     "output_type": "execute_result"
    }
   ],
   "source": [
    "len(p)"
   ]
  },
  {
   "cell_type": "code",
   "execution_count": null,
   "metadata": {},
   "outputs": [],
   "source": []
  },
  {
   "cell_type": "code",
   "execution_count": null,
   "metadata": {},
   "outputs": [],
   "source": []
  },
  {
   "cell_type": "code",
   "execution_count": null,
   "metadata": {},
   "outputs": [],
   "source": []
  }
 ],
 "metadata": {
  "kernelspec": {
   "display_name": "Python 3",
   "language": "python",
   "name": "python3"
  },
  "language_info": {
   "codemirror_mode": {
    "name": "ipython",
    "version": 3
   },
   "file_extension": ".py",
   "mimetype": "text/x-python",
   "name": "python",
   "nbconvert_exporter": "python",
   "pygments_lexer": "ipython3",
   "version": "3.7.4"
  }
 },
 "nbformat": 4,
 "nbformat_minor": 2
}