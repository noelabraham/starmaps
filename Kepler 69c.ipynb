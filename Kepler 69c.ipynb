{
 "cells": [
  {
   "cell_type": "code",
   "execution_count": 2,
   "metadata": {},
   "outputs": [
    {
     "name": "stdout",
     "output_type": "stream",
     "text": [
      "Created TAP+ (v1.2.1) - Connection:\n",
      "\tHost: gea.esac.esa.int\n",
      "\tUse HTTPS: True\n",
      "\tPort: 443\n",
      "\tSSL Port: 443\n",
      "Created TAP+ (v1.2.1) - Connection:\n",
      "\tHost: geadata.esac.esa.int\n",
      "\tUse HTTPS: True\n",
      "\tPort: 443\n",
      "\tSSL Port: 443\n"
     ]
    }
   ],
   "source": [
    "# import statements\n",
    "import matplotlib.pyplot as plt\n",
    "import numpy as np\n",
    "from astropy.io.votable import parse_single_table\n",
    "# Import the units package as \"u\", the constants package as \"c\"\n",
    "import astropy.units as u\n",
    "import astropy.constants as c\n",
    "from astropy.table import QTable\n",
    "import astropy.coordinates as coord\n",
    "from matplotlib import colors\n",
    "\n",
    "# Suppress warnings. Comment this out if you wish to see the warning messages\n",
    "import warnings\n",
    "warnings.filterwarnings('ignore')\n",
    "\n",
    "%matplotlib inline\n",
    "\n",
    "from astroquery.gaia import Gaia\n",
    "\n",
    "from matplotlib import colors"
   ]
  },
  {
   "cell_type": "code",
   "execution_count": 3,
   "metadata": {},
   "outputs": [],
   "source": [
    "#Querying methods\n",
    "\n",
    "def read_gaia_vot(filename):\n",
    "    return QTable(parse_single_table(filename).to_table())\n",
    "\n",
    "def get_table_gaia_query(myquery):\n",
    "    return QTable(Gaia.launch_job_async(myquery, dump_to_file = True).get_results())"
   ]
  },
  {
   "cell_type": "code",
   "execution_count": 4,
   "metadata": {},
   "outputs": [],
   "source": [
    "#Astronomy methods\n",
    "\n",
    "def luminosityFromMag(magnitude):\n",
    "    return ((c.L_bol0).value * 10 ** (-0.4 * (magnitude).value))*u.erg\n",
    "\n",
    "def distance(parallax):\n",
    "    parallax_arcsec = parallax.to('arcsec').value\n",
    "    return 1/parallax_arcsec * u.pc\n",
    "\n",
    "def Magnitude_absolute_from_apparent(mag,dist):\n",
    "    M = mag - 5*np.log10(dist.to('pc')/u.pc)*u.mag + 5.*u.mag\n",
    "    return M\n",
    "\n",
    "def angle_of_star(x,y,z):\n",
    "    l=np.arctan2(y,x)\n",
    "    b=np.arctan(z/np.sqrt(x**2+y**2))\n",
    "    return l,b"
   ]
  },
  {
   "cell_type": "code",
   "execution_count": null,
   "metadata": {},
   "outputs": [],
   "source": []
  },
  {
   "cell_type": "code",
   "execution_count": 8,
   "metadata": {},
   "outputs": [
    {
     "data": {
      "text/html": [
       "<i>QTable masked=True length=1000000</i>\n",
       "<table id=\"table1452295672264\" class=\"table-striped table-bordered table-condensed\">\n",
       "<thead><tr><th>source_id</th><th>ra</th><th>ra_error</th><th>dec</th><th>dec_error</th><th>parallax</th><th>parallax_error</th><th>parallax_over_error</th><th>phot_g_mean_mag</th><th>bp_rp</th><th>radial_velocity</th><th>radial_velocity_error</th><th>phot_variable_flag</th><th>teff_val</th><th>a_g_val</th><th>distance</th></tr></thead>\n",
       "<thead><tr><th></th><th>deg</th><th>mas</th><th>deg</th><th>mas</th><th>mas</th><th>mas</th><th></th><th>mag</th><th>mag</th><th>km / s</th><th>km / s</th><th></th><th>K</th><th>mag</th><th>pc</th></tr></thead>\n",
       "<thead><tr><th>int64</th><th>float64</th><th>float64</th><th>float64</th><th>float64</th><th>float64</th><th>float64</th><th>float32</th><th>float32</th><th>float32</th><th>float64</th><th>float64</th><th>object</th><th>float32</th><th>float32</th><th>float64</th></tr></thead>\n",
       "<tr><td>5867842696999004928</td><td>212.72649342427454</td><td>0.16654569136256123</td><td>-59.05802540463094</td><td>0.23051222235236402</td><td>1.0000000083512135</td><td>0.33775032137096395</td><td>2.960767</td><td>18.77579689025879</td><td>2.7194881439208984</td><td>nan</td><td>nan</td><td>NOT_AVAILABLE</td><td>nan</td><td>nan</td><td>999.9999916487865</td></tr>\n",
       "<tr><td>4087148470108071552</td><td>286.70097523764156</td><td>0.6832211927300303</td><td>-18.394426011791992</td><td>0.5251599912998292</td><td>1.0000000188281026</td><td>0.6256130905694118</td><td>1.5984321</td><td>19.778955459594727</td><td>1.5227794647216797</td><td>nan</td><td>nan</td><td>NOT_AVAILABLE</td><td>nan</td><td>nan</td><td>999.9999811718976</td></tr>\n",
       "<tr><td>1817165684726221056</td><td>306.2463915188333</td><td>0.12586646668012103</td><td>21.605585677368936</td><td>0.1399232199222302</td><td>1.0000000341914919</td><td>0.16816424902644325</td><td>5.9465675</td><td>17.437915802001953</td><td>1.7741317749023438</td><td>nan</td><td>nan</td><td>NOT_AVAILABLE</td><td>nan</td><td>nan</td><td>999.9999658085093</td></tr>\n",
       "<tr><td>5312206389985020160</td><td>143.46501093802237</td><td>0.7195260848050724</td><td>-52.495580723300016</td><td>0.7715394612829777</td><td>1.0000000515892649</td><td>0.8540936566925174</td><td>1.1708318</td><td>20.601932525634766</td><td>1.5536975860595703</td><td>nan</td><td>nan</td><td>NOT_AVAILABLE</td><td>nan</td><td>nan</td><td>999.9999484107378</td></tr>\n",
       "<tr><td>6039135995740281728</td><td>243.56294629266733</td><td>0.6866554663993056</td><td>-28.671862909133143</td><td>0.3101998705718258</td><td>1.0000000522226185</td><td>0.8448436209150945</td><td>1.1836511</td><td>20.005159378051758</td><td>1.1123428344726562</td><td>nan</td><td>nan</td><td>NOT_AVAILABLE</td><td>nan</td><td>nan</td><td>999.9999477773844</td></tr>\n",
       "<tr><td>4051717807494936704</td><td>277.5609064599959</td><td>0.07625275866836724</td><td>-27.47991797294544</td><td>0.0735764418621387</td><td>1.0000000523939314</td><td>0.09362269885636208</td><td>10.681171</td><td>15.776820182800293</td><td>1.3340778350830078</td><td>nan</td><td>nan</td><td>NOT_AVAILABLE</td><td>4572.52490234375</td><td>nan</td><td>999.9999476060713</td></tr>\n",
       "<tr><td>6021361595705122816</td><td>245.13450731900335</td><td>0.18716159418504832</td><td>-37.934294235844185</td><td>0.135557127194438</td><td>1.0000000524828971</td><td>0.21644258641873923</td><td>4.620163</td><td>18.296247482299805</td><td>2.1371383666992188</td><td>nan</td><td>nan</td><td>NOT_AVAILABLE</td><td>nan</td><td>nan</td><td>999.9999475171056</td></tr>\n",
       "<tr><td>5909913280341892992</td><td>264.1261823364954</td><td>0.1906541510608805</td><td>-64.01920341266977</td><td>0.188885470120395</td><td>1.0000000532350783</td><td>0.25829038486476885</td><td>3.8716116</td><td>18.99789047241211</td><td>1.7328987121582031</td><td>nan</td><td>nan</td><td>NOT_AVAILABLE</td><td>nan</td><td>nan</td><td>999.9999467649246</td></tr>\n",
       "<tr><td>1905441075271593344</td><td>333.93583233188673</td><td>0.2496245773816308</td><td>34.74902769878552</td><td>0.2413771489744038</td><td>1.000000053973394</td><td>0.32838326496511827</td><td>3.0452223</td><td>18.840545654296875</td><td>2.098665237426758</td><td>nan</td><td>nan</td><td>NOT_AVAILABLE</td><td>nan</td><td>nan</td><td>999.999946026609</td></tr>\n",
       "<tr><td>...</td><td>...</td><td>...</td><td>...</td><td>...</td><td>...</td><td>...</td><td>...</td><td>...</td><td>...</td><td>...</td><td>...</td><td>...</td><td>...</td><td>...</td><td>...</td></tr>\n",
       "<tr><td>5838220895964669184</td><td>185.467552495507</td><td>0.6148513212846273</td><td>-75.03699214666128</td><td>0.8691699023382583</td><td>1.003796058474799</td><td>0.8482633802902203</td><td>1.1833543</td><td>20.670963287353516</td><td>1.7352409362792969</td><td>nan</td><td>nan</td><td>NOT_AVAILABLE</td><td>nan</td><td>nan</td><td>996.2182970905795</td></tr>\n",
       "<tr><td>5505303133149692288</td><td>108.49933933700453</td><td>0.3542334976581963</td><td>-49.971778938130264</td><td>0.35618886654636994</td><td>1.0037960624815339</td><td>0.38775213369784</td><td>2.588757</td><td>19.806501388549805</td><td>1.6282901763916016</td><td>nan</td><td>nan</td><td>NOT_AVAILABLE</td><td>nan</td><td>nan</td><td>996.2182931140919</td></tr>\n",
       "<tr><td>6030253488004981888</td><td>255.6717194178684</td><td>0.2940035762711865</td><td>-28.095839929613735</td><td>0.20181091156363531</td><td>1.0037960627953861</td><td>0.34253940106355174</td><td>2.9304543</td><td>19.106870651245117</td><td>1.1828460693359375</td><td>nan</td><td>nan</td><td>NOT_AVAILABLE</td><td>nan</td><td>nan</td><td>996.2182928026089</td></tr>\n",
       "<tr><td>5972831798159247232</td><td>259.9359219549431</td><td>0.3567382249356068</td><td>-38.10321150839376</td><td>0.30745079444282397</td><td>1.0037960632142493</td><td>0.43403256188099354</td><td>2.3127205</td><td>18.805978775024414</td><td>4.071918487548828</td><td>nan</td><td>nan</td><td>NOT_AVAILABLE</td><td>nan</td><td>nan</td><td>996.2182923869078</td></tr>\n",
       "<tr><td>5857571750878024320</td><td>198.03357410024455</td><td>0.5149144485520456</td><td>-67.28579691292713</td><td>0.657324238013805</td><td>1.0037960798119483</td><td>0.7835147192595789</td><td>1.2811451</td><td>19.987232208251953</td><td>2.2508010864257812</td><td>nan</td><td>nan</td><td>NOT_AVAILABLE</td><td>nan</td><td>nan</td><td>996.2182759145071</td></tr>\n",
       "<tr><td>5539769317986670080</td><td>123.24859270303851</td><td>0.4848270371662459</td><td>-40.11463463213837</td><td>0.547664630434221</td><td>1.0037960805662194</td><td>0.624465291661981</td><td>1.6074489</td><td>20.24279022216797</td><td>2.2490234375</td><td>nan</td><td>nan</td><td>NOT_AVAILABLE</td><td>nan</td><td>nan</td><td>996.21827516593</td></tr>\n",
       "<tr><td>5490735158130083712</td><td>109.4593801992987</td><td>0.2731012365739283</td><td>-54.94464598401694</td><td>0.21267490569475314</td><td>1.0037960846400287</td><td>0.2219298958417539</td><td>4.523032</td><td>18.655054092407227</td><td>nan</td><td>nan</td><td>nan</td><td>NOT_AVAILABLE</td><td>nan</td><td>nan</td><td>996.2182711228745</td></tr>\n",
       "<tr><td>2126435495052847616</td><td>293.1834575194686</td><td>0.049552856224958</td><td>44.8441712286595</td><td>0.05819898213727812</td><td>1.0037960853188639</td><td>0.05810208772934225</td><td>17.27642</td><td>17.033920288085938</td><td>1.3600006103515625</td><td>nan</td><td>nan</td><td>NOT_AVAILABLE</td><td>4980.0</td><td>0.11069999635219574</td><td>996.2182704491639</td></tr>\n",
       "<tr><td>3292499771378971520</td><td>69.3855174860655</td><td>0.7904855103289876</td><td>8.450164171405948</td><td>0.3726413476550231</td><td>1.0037960859984967</td><td>0.8760827420746143</td><td>1.1457777</td><td>20.15907096862793</td><td>2.5029373168945312</td><td>nan</td><td>nan</td><td>NOT_AVAILABLE</td><td>nan</td><td>nan</td><td>996.2182697746618</td></tr>\n",
       "<tr><td>5943030875526029824</td><td>249.36680323491925</td><td>0.21803117618758544</td><td>-45.6025650545517</td><td>0.16296231402633776</td><td>1.003796086810788</td><td>0.21732432321392867</td><td>4.618885</td><td>18.43494987487793</td><td>3.1156349182128906</td><td>nan</td><td>nan</td><td>NOT_AVAILABLE</td><td>nan</td><td>nan</td><td>996.2182689685026</td></tr>\n",
       "</table>"
      ],
      "text/plain": [
       "<QTable masked=True length=1000000>\n",
       "     source_id              ra         ...       a_g_val            distance    \n",
       "                           deg         ...         mag                 pc       \n",
       "       int64             float64       ...       float32            float64     \n",
       "------------------- ------------------ ... ------------------- -----------------\n",
       "5867842696999004928 212.72649342427454 ...                 nan 999.9999916487865\n",
       "4087148470108071552 286.70097523764156 ...                 nan 999.9999811718976\n",
       "1817165684726221056  306.2463915188333 ...                 nan 999.9999658085093\n",
       "5312206389985020160 143.46501093802237 ...                 nan 999.9999484107378\n",
       "6039135995740281728 243.56294629266733 ...                 nan 999.9999477773844\n",
       "4051717807494936704  277.5609064599959 ...                 nan 999.9999476060713\n",
       "6021361595705122816 245.13450731900335 ...                 nan 999.9999475171056\n",
       "5909913280341892992  264.1261823364954 ...                 nan 999.9999467649246\n",
       "1905441075271593344 333.93583233188673 ...                 nan  999.999946026609\n",
       "                ...                ... ...                 ...               ...\n",
       "5838220895964669184   185.467552495507 ...                 nan 996.2182970905795\n",
       "5505303133149692288 108.49933933700453 ...                 nan 996.2182931140919\n",
       "6030253488004981888  255.6717194178684 ...                 nan 996.2182928026089\n",
       "5972831798159247232  259.9359219549431 ...                 nan 996.2182923869078\n",
       "5857571750878024320 198.03357410024455 ...                 nan 996.2182759145071\n",
       "5539769317986670080 123.24859270303851 ...                 nan   996.21827516593\n",
       "5490735158130083712  109.4593801992987 ...                 nan 996.2182711228745\n",
       "2126435495052847616  293.1834575194686 ... 0.11069999635219574 996.2182704491639\n",
       "3292499771378971520   69.3855174860655 ...                 nan 996.2182697746618\n",
       "5943030875526029824 249.36680323491925 ...                 nan 996.2182689685026"
      ]
     },
     "execution_count": 8,
     "metadata": {},
     "output_type": "execute_result"
    }
   ],
   "source": [
    "#Getting the stars between 1.4 and 2 parsecs away and ra between 281 and 310, and dec between 35 and 50\n",
    "\n",
    "myquery2 = \"SELECT TOP 1000000 gaia_source.source_id,gaia_source.ra,gaia_source.ra_error, \\\n",
    "                               gaia_source.dec,gaia_source.dec_error,gaia_source.parallax,gaia_source.parallax_error, \\\n",
    "                               gaia_source.parallax_over_error,gaia_source.phot_g_mean_mag,gaia_source.bp_rp, \\\n",
    "                               gaia_source.radial_velocity,gaia_source.radial_velocity_error, \\\n",
    "                               gaia_source.phot_variable_flag,gaia_source.teff_val,gaia_source.a_g_val \\\n",
    "            FROM gaiadr2.gaia_source \\\n",
    "            WHERE (gaiadr2.gaia_source.ra>=5.56014098062107 AND gaiadr2.gaia_source.ra<=350.56014098062107 \\\n",
    "               AND gaiadr2.gaia_source.dec>=-80.587831532659646 AND gaiadr2.gaia_source.dec<=80.587831532659646 \\\n",
    "               AND gaiadr2.gaia_source.parallax>=1 AND gaiadr2.gaia_source.parallax<=18.068624923468156 \\\n",
    "               AND gaiadr2.gaia_source.parallax_over_error>=1)\"\n",
    "\n",
    "p = get_table_gaia_query(myquery2)\n",
    "\n",
    "p['distance'] = distance(p['parallax'])\n",
    "\n",
    "p"
   ]
  },
  {
   "cell_type": "code",
   "execution_count": null,
   "metadata": {},
   "outputs": [],
   "source": [
    "#Converting the ra, dec, and distance into Sky Coordinates, and then into Galactocentric Coordinates\n",
    "KeplerSky=coord.SkyCoord(ra=r['ra'],dec=r['dec'],distance=r['distance'])\n",
    "KeplerGC=KeplerSky.galactocentric\n",
    "KeplerGC"
   ]
  },
  {
   "cell_type": "code",
   "execution_count": null,
   "metadata": {},
   "outputs": [],
   "source": [
    "#Finding Sky Coordinates of Kepler 452\n",
    "Kepler452=coord.SkyCoord(ra=293.2609013066638*u.degree,dec=44.86886564417808*u.degree,distance=distance(1.3398916644968708*u.mas))"
   ]
  },
  {
   "cell_type": "code",
   "execution_count": null,
   "metadata": {},
   "outputs": [],
   "source": [
    "#Converting Kepler 4452 Sky Coordinates into Galactocentric Coordinates\n",
    "Kepler452G=Kepler452.galactocentric"
   ]
  },
  {
   "cell_type": "code",
   "execution_count": null,
   "metadata": {},
   "outputs": [],
   "source": [
    "#Finding the distances between the x,y,z of the stars in our query and Kepler 452's x,y,z\n",
    "x=(KeplerGC.x-Kepler452G.x)\n",
    "y=(KeplerGC.y-Kepler452G.y)\n",
    "z=(KeplerGC.z-Kepler452G.z)"
   ]
  },
  {
   "cell_type": "code",
   "execution_count": null,
   "metadata": {},
   "outputs": [],
   "source": [
    "#Using our method angle_of_star to solve for L,B in Galactic\n",
    "L,B=angle_of_star(x,y,z)"
   ]
  },
  {
   "cell_type": "code",
   "execution_count": null,
   "metadata": {},
   "outputs": [],
   "source": [
    "#Finding the apparent magnitudes of the stars from the neighboring stars\n",
    "r['Mg'] = Magnitude_absolute_from_apparent(r['phot_g_mean_mag'], r['distance'])\n",
    "r['otherDistance'] = np.sqrt(x.value**2+y.value**2+z.value**2)*u.pc\n",
    "r['m'] = (r['Mg'].value - 5 + 5*np.log10(r['otherDistance'].value))*u.mag"
   ]
  },
  {
   "cell_type": "code",
   "execution_count": null,
   "metadata": {},
   "outputs": [],
   "source": [
    "#Plotting the Right Ascension and Declination found previously and adding the new apparent magnitude to get a nice graph\n",
    "fig = plt.figure()\n",
    "ax = fig.add_subplot(1, 1, 1)\n",
    "plt.subplot(111, projection = \"mollweide\")\n",
    "\n",
    "plt.scatter((L.to('degree')).value, (B.to('degree').value), s = 1, c = (r['m']), alpha = 0.1, cmap = \"gist_gray_r\")\n",
    "ax.set_facecolor(\"Black\")\n",
    "\n",
    "plt.xlabel(\"Right Ascension (Degrees)\")\n",
    "plt.ylabel(\"Declination (Degrees)\")\n",
    "\n",
    "#plt.xlim(-180,0)\n",
    "#plt.ylim(-75,75)\n",
    "plt.show()\n",
    "\n"
   ]
  },
  {
   "cell_type": "code",
   "execution_count": null,
   "metadata": {},
   "outputs": [],
   "source": [
    "#Repeating all steps for Proxima Centauri B\n",
    "ProxSky=coord.SkyCoord(ra=r['ra'],dec=r['dec'],distance=r['distance'])\n",
    "ProxGC=ProxSky.galactocentric"
   ]
  },
  {
   "cell_type": "code",
   "execution_count": null,
   "metadata": {},
   "outputs": [],
   "source": [
    "ProxCent=coord.SkyCoord(ra=293.2609013066638*u.degree,dec=44.86886564417808*u.degree,distance=distance(1.3398916644968708*u.mas))"
   ]
  },
  {
   "cell_type": "code",
   "execution_count": null,
   "metadata": {},
   "outputs": [],
   "source": [
    "ProxCentG=ProxCent.galactocentric"
   ]
  },
  {
   "cell_type": "code",
   "execution_count": null,
   "metadata": {},
   "outputs": [],
   "source": [
    "x1=(ProxGC.x-ProxCentG.x)\n",
    "y1=(ProxGC.y-ProxCentG.y)\n",
    "z1=(ProxGC.z-ProxCentG.z)"
   ]
  },
  {
   "cell_type": "code",
   "execution_count": null,
   "metadata": {},
   "outputs": [],
   "source": [
    "L1,B1=angle_of_star(x1,y1,z1)"
   ]
  },
  {
   "cell_type": "code",
   "execution_count": null,
   "metadata": {},
   "outputs": [],
   "source": [
    "r['Mg'] = Magnitude_absolute_from_apparent(r['phot_g_mean_mag'], r['distance'])\n",
    "\n",
    "r['m'] = (r['Mg'].value - 5 + 5*np.log10(np.sqrt(x1.value**2+y1.value**2+z1.value**2)))*u.mag"
   ]
  },
  {
   "cell_type": "code",
   "execution_count": null,
   "metadata": {},
   "outputs": [],
   "source": [
    "fig = plt.figure()\n",
    "ax = fig.add_subplot(1, 1, 1)\n",
    "#plt.subplot(111, projection = \"mollweide\") c = (r['m']), alpha = 0.1, cmap = \"gray_r\"\n",
    "\n",
    "plt.scatter((L.to('degree')).value, (B.to('degree').value), s = 1, c = (r['m']), alpha = 0.1, cmap = \"gray_r\")\n",
    "ax.set_facecolor(\"Black\")\n",
    "\n",
    "plt.xlabel(\"Right Ascension (Degrees)\")\n",
    "plt.ylabel(\"Declination (Degrees)\")\n",
    "\n",
    "plt.xlim(180,-180)\n",
    "plt.ylim(-90,90)\n",
    "plt.show()"
   ]
  },
  {
   "cell_type": "code",
   "execution_count": null,
   "metadata": {},
   "outputs": [],
   "source": [
    "len(p)"
   ]
  },
  {
   "cell_type": "code",
   "execution_count": null,
   "metadata": {},
   "outputs": [],
   "source": [
    "len(r)"
   ]
  },
  {
   "cell_type": "code",
   "execution_count": null,
   "metadata": {},
   "outputs": [],
   "source": []
  },
  {
   "cell_type": "code",
   "execution_count": null,
   "metadata": {},
   "outputs": [],
   "source": []
  }
 ],
 "metadata": {
  "kernelspec": {
   "display_name": "Python 3",
   "language": "python",
   "name": "python3"
  },
  "language_info": {
   "codemirror_mode": {
    "name": "ipython",
    "version": 3
   },
   "file_extension": ".py",
   "mimetype": "text/x-python",
   "name": "python",
   "nbconvert_exporter": "python",
   "pygments_lexer": "ipython3",
   "version": "3.7.4"
  }
 },
 "nbformat": 4,
 "nbformat_minor": 2
}
